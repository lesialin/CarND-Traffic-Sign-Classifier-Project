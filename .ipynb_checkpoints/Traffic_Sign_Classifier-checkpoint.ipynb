{
 "cells": [
  {
   "cell_type": "markdown",
   "metadata": {},
   "source": [
    "# Self-Driving Car Engineer Nanodegree\n",
    "\n",
    "## Deep Learning\n",
    "\n",
    "## Project: Build a Traffic Sign Recognition Classifier\n",
    "\n",
    "In this notebook, a template is provided for you to implement your functionality in stages, which is required to successfully complete this project. If additional code is required that cannot be included in the notebook, be sure that the Python code is successfully imported and included in your submission if necessary. \n",
    "\n",
    "> **Note**: Once you have completed all of the code implementations, you need to finalize your work by exporting the iPython Notebook as an HTML document. Before exporting the notebook to html, all of the code cells need to have been run so that reviewers can see the final implementation and output. You can then export the notebook by using the menu above and navigating to  \\n\",\n",
    "    \"**File -> Download as -> HTML (.html)**. Include the finished document along with this notebook as your submission. \n",
    "\n",
    "In addition to implementing code, there is a writeup to complete. The writeup should be completed in a separate file, which can be either a markdown file or a pdf document. There is a [write up template](https://github.com/udacity/CarND-Traffic-Sign-Classifier-Project/blob/master/writeup_template.md) that can be used to guide the writing process. Completing the code template and writeup template will cover all of the [rubric points](https://review.udacity.com/#!/rubrics/481/view) for this project.\n",
    "\n",
    "The [rubric](https://review.udacity.com/#!/rubrics/481/view) contains \"Stand Out Suggestions\" for enhancing the project beyond the minimum requirements. The stand out suggestions are optional. If you decide to pursue the \"stand out suggestions\", you can include the code in this Ipython notebook and also discuss the results in the writeup file.\n",
    "\n",
    "\n",
    ">**Note:** Code and Markdown cells can be executed using the **Shift + Enter** keyboard shortcut. In addition, Markdown cells can be edited by typically double-clicking the cell to enter edit mode."
   ]
  },
  {
   "cell_type": "markdown",
   "metadata": {},
   "source": [
    "---\n",
    "## Step 0: Load The Data"
   ]
  },
  {
   "cell_type": "code",
   "execution_count": 1,
   "metadata": {
    "collapsed": true
   },
   "outputs": [],
   "source": [
    "# Load pickled data\n",
    "import pickle\n",
    "\n",
    "# TODO: Fill this in based on where you saved the training and testing data\n",
    "training_file = 'traffic-signs-data/train.p'\n",
    "validation_file='traffic-signs-data/valid.p'\n",
    "testing_file = 'traffic-signs-data/test.p'\n",
    "\n",
    "with open(training_file, mode='rb') as f:\n",
    "    train = pickle.load(f)\n",
    "with open(validation_file, mode='rb') as f:\n",
    "    valid = pickle.load(f)\n",
    "with open(testing_file, mode='rb') as f:\n",
    "    test = pickle.load(f)\n",
    "    \n",
    "X_train, y_train = train['features'], train['labels']\n",
    "X_valid, y_valid = valid['features'], valid['labels']\n",
    "X_test, y_test = test['features'], test['labels']"
   ]
  },
  {
   "cell_type": "markdown",
   "metadata": {},
   "source": [
    "---\n",
    "\n",
    "## Step 1: Dataset Summary & Exploration\n",
    "\n",
    "The pickled data is a dictionary with 4 key/value pairs:\n",
    "\n",
    "- `'features'` is a 4D array containing raw pixel data of the traffic sign images, (num examples, width, height, channels).\n",
    "- `'labels'` is a 1D array containing the label/class id of the traffic sign. The file `signnames.csv` contains id -> name mappings for each id.\n",
    "- `'sizes'` is a list containing tuples, (width, height) representing the original width and height the image.\n",
    "- `'coords'` is a list containing tuples, (x1, y1, x2, y2) representing coordinates of a bounding box around the sign in the image. **THESE COORDINATES ASSUME THE ORIGINAL IMAGE. THE PICKLED DATA CONTAINS RESIZED VERSIONS (32 by 32) OF THESE IMAGES**\n",
    "\n",
    "Complete the basic data summary below. Use python, numpy and/or pandas methods to calculate the data summary rather than hard coding the results. For example, the [pandas shape method](http://pandas.pydata.org/pandas-docs/stable/generated/pandas.DataFrame.shape.html) might be useful for calculating some of the summary results. "
   ]
  },
  {
   "cell_type": "markdown",
   "metadata": {},
   "source": [
    "### Provide a Basic Summary of the Data Set Using Python, Numpy and/or Pandas"
   ]
  },
  {
   "cell_type": "code",
   "execution_count": 2,
   "metadata": {},
   "outputs": [
    {
     "name": "stdout",
     "output_type": "stream",
     "text": [
      "Number of training examples = 34799\n",
      "Number of testing examples = 12630\n",
      "Image data shape = (32, 32)\n",
      "Number of classes = 43\n"
     ]
    }
   ],
   "source": [
    "### Replace each question mark with the appropriate value. \n",
    "### Use python, pandas or numpy methods rather than hard coding the results\n",
    "import numpy as np\n",
    "\n",
    "# TODO: Number of training examples\n",
    "n_train = X_train.shape[0]\n",
    "\n",
    "# TODO: Number of validation examples\n",
    "n_validation = X_valid.shape[0]\n",
    "\n",
    "# TODO: Number of testing examples.\n",
    "n_test = X_test.shape[0]\n",
    "\n",
    "\n",
    "# TODO: What's the shape of an traffic sign image?\n",
    "image_shape = (X_train.shape[1],X_train.shape[2])\n",
    "\n",
    "# TODO: How many unique classes/labels there are in the dataset.\n",
    "n_classes = np.min(y_train)+np.max(y_train)+1\n",
    "\n",
    "print(\"Number of training examples =\", n_train)\n",
    "print(\"Number of testing examples =\", n_test)\n",
    "print(\"Image data shape =\", image_shape)\n",
    "print(\"Number of classes =\", n_classes)"
   ]
  },
  {
   "cell_type": "markdown",
   "metadata": {},
   "source": [
    "### Include an exploratory visualization of the dataset"
   ]
  },
  {
   "cell_type": "markdown",
   "metadata": {},
   "source": [
    "Visualize the German Traffic Signs Dataset using the pickled file(s). This is open ended, suggestions include: plotting traffic sign images, plotting the count of each sign, etc. \n",
    "\n",
    "The [Matplotlib](http://matplotlib.org/) [examples](http://matplotlib.org/examples/index.html) and [gallery](http://matplotlib.org/gallery.html) pages are a great resource for doing visualizations in Python.\n",
    "\n",
    "**NOTE:** It's recommended you start with something simple first. If you wish to do more, come back to it after you've completed the rest of the sections. It can be interesting to look at the distribution of classes in the training, validation and test set. Is the distribution the same? Are there more examples of some classes than others?"
   ]
  },
  {
   "cell_type": "code",
   "execution_count": 3,
   "metadata": {
    "collapsed": true,
    "scrolled": true
   },
   "outputs": [],
   "source": [
    "### Data exploration visualization code goes here.\n",
    "### Feel free to use as many code cells as needed.\n",
    "import matplotlib.pyplot as plt\n",
    "import matplotlib.cm as cm\n",
    "import random\n",
    "\n",
    "# Visualizations will be shown in the notebook.\n",
    "%matplotlib inline\n",
    "\n",
    "def visualize_dataset(features,labels,signnames,label_no):\n",
    "    label_name = signnames.index[label_no]\n",
    "    print('class %s: %s' %(label_no, label_name))\n",
    "    n_img_to_visual=20\n",
    "    n_row_plot  = 2\n",
    "    n_col_plot = int(n_img_to_visual/n_row_plot)\n",
    "    index = np.where(labels==label_no)\n",
    "    label_indexes = index[0][0:n_img_to_visual]\n",
    "    \n",
    "    #fig = plt.figure()\n",
    "    fig = plt.figure(figsize = (n_col_plot, n_row_plot))\n",
    "    plot_count = 0\n",
    "    fig.subplots_adjust(hspace = 0, wspace = 0)\n",
    "    for i in range(n_col_plot*n_row_plot):\n",
    "        ax = fig.add_subplot(n_row_plot, n_col_plot, plot_count+1)\n",
    "        ax.axis('off')\n",
    "        plot_count += 1\n",
    "        idx = label_indexes[i]\n",
    "        img =  np.squeeze(features[idx,:,:,:])\n",
    "        if img.ndim==2:\n",
    "            plt.imshow(img, cmap=cm.gray)\n",
    "        else:\n",
    "            plt.imshow(img)\n",
    "            \n",
    "    plt.show()\n"
   ]
  },
  {
   "cell_type": "code",
   "execution_count": 4,
   "metadata": {
    "collapsed": true
   },
   "outputs": [],
   "source": [
    "#read the traffic sign name mapping\n",
    "import pandas as pd\n",
    "signnames = pd.read_csv('signnames.csv', index_col='SignName')"
   ]
  },
  {
   "cell_type": "code",
   "execution_count": null,
   "metadata": {},
   "outputs": [],
   "source": [
    "#show the images in all classes\n",
    "for label_no in range(n_classes):\n",
    "    visualize_dataset(X_train,y_train,signnames,label_no)    \n",
    "    "
   ]
  },
  {
   "cell_type": "code",
   "execution_count": 5,
   "metadata": {},
   "outputs": [
    {
     "data": {
      "image/png": "[encoded data removed]",
      "text/plain": [
       "<matplotlib.figure.Figure at 0x2452a89c400>"
      ]
     },
     "metadata": {},
     "output_type": "display_data"
    },
    {
     "data": {
      "image/png": "[encoded data removed]",
      "text/plain": [
       "<matplotlib.figure.Figure at 0x2452a9acf28>"
      ]
     },
     "metadata": {},
     "output_type": "display_data"
    },
    {
     "data": {
      "image/png": "[encoded data removed]",
      "text/plain": [
       "<matplotlib.figure.Figure at 0x2452a9ea7b8>"
      ]
     },
     "metadata": {},
     "output_type": "display_data"
    }
   ],
   "source": [
    "#show the distribution of training set \n",
    "fig= plt.plot()\n",
    "plt.hist(y_train, normed=True, bins=n_classes)\n",
    "plt.xlabel('class no.')\n",
    "plt.ylabel('Probability')\n",
    "plt.title('training set distribution')\n",
    "plt.show()\n",
    "\n",
    "#show the distribution of validation set \n",
    "fig= plt.plot()\n",
    "plt.hist(y_valid, normed=True, bins=n_classes)\n",
    "plt.xlabel('class no.')\n",
    "plt.ylabel('Probability')\n",
    "plt.title('validation set distribution')\n",
    "plt.show()\n",
    "\n",
    "\n",
    "#show the distribution of testing set \n",
    "fig= plt.plot()\n",
    "plt.hist(y_test, normed=True, bins=n_classes)\n",
    "plt.xlabel('class no.')\n",
    "plt.ylabel('Probability')\n",
    "plt.title('testing set distribution')\n",
    "plt.show()\n"
   ]
  },
  {
   "cell_type": "markdown",
   "metadata": {},
   "source": [
    "----\n",
    "\n",
    "## Step 2: Design and Test a Model Architecture\n",
    "\n",
    "Design and implement a deep learning model that learns to recognize traffic signs. Train and test your model on the [German Traffic Sign Dataset](http://benchmark.ini.rub.de/?section=gtsrb&subsection=dataset).\n",
    "\n",
    "The LeNet-5 implementation shown in the [classroom](https://classroom.udacity.com/nanodegrees/nd013/parts/fbf77062-5703-404e-b60c-95b78b2f3f9e/modules/6df7ae49-c61c-4bb2-a23e-6527e69209ec/lessons/601ae704-1035-4287-8b11-e2c2716217ad/concepts/d4aca031-508f-4e0b-b493-e7b706120f81) at the end of the CNN lesson is a solid starting point. You'll have to change the number of classes and possibly the preprocessing, but aside from that it's plug and play! \n",
    "\n",
    "With the LeNet-5 solution from the lecture, you should expect a validation set accuracy of about 0.89. To meet specifications, the validation set accuracy will need to be at least 0.93. It is possible to get an even higher accuracy, but 0.93 is the minimum for a successful project submission. \n",
    "\n",
    "There are various aspects to consider when thinking about this problem:\n",
    "\n",
    "- Neural network architecture (is the network over or underfitting?)\n",
    "- Play around preprocessing techniques (normalization, rgb to grayscale, etc)\n",
    "- Number of examples per label (some have more than others).\n",
    "- Generate fake data.\n",
    "\n",
    "Here is an example of a [published baseline model on this problem](http://yann.lecun.com/exdb/publis/pdf/sermanet-ijcnn-11.pdf). It's not required to be familiar with the approach used in the paper but, it's good practice to try to read papers like these."
   ]
  },
  {
   "cell_type": "markdown",
   "metadata": {},
   "source": [
    "### Pre-process the Data Set (normalization, grayscale, etc.)"
   ]
  },
  {
   "cell_type": "markdown",
   "metadata": {},
   "source": [
    "Minimally, the image data should be normalized so that the data has mean zero and equal variance. For image data, `(pixel - 128)/ 128` is a quick way to approximately normalize the data and can be used in this project. \n",
    "\n",
    "Other pre-processing steps are optional. You can try different techniques to see if it improves performance. \n",
    "\n",
    "Use the code cell (or multiple code cells, if necessary) to implement the first step of your project."
   ]
  },
  {
   "cell_type": "code",
   "execution_count": 6,
   "metadata": {
    "collapsed": true
   },
   "outputs": [],
   "source": [
    "### Preprocess the data here. It is required to normalize the data. Other preprocessing steps could include \n",
    "### converting to grayscale, etc.\n",
    "### Feel free to use as many code cells as needed.\n",
    "import matplotlib.pyplot as plt\n",
    "import numpy as np\n",
    "import skimage.transform as sk_tf\n",
    "from skimage.util import random_noise\n",
    "from skimage.exposure import equalize_hist\n",
    "\n",
    "class Data_Augment(object):\n",
    "    def __init__(self):\n",
    "        pass\n",
    "    #Rotation angle in degrees in counter-clockwise direction.\n",
    "    def rotate(self,images, rot_deg):\n",
    "        augment_images = np.copy(images)*0.0\n",
    "        for i in range(len(images)):\n",
    "            augment_images[i,:,:,:] = sk_tf.rotate(images[i,:,:,:],rot_deg)\n",
    "        return augment_images\n",
    "    \n",
    "    #histogram equalization\n",
    "    def hist_equal(self,images):\n",
    "        augment_images = np.copy(images)*0.0\n",
    "        for i in range(len(images)):\n",
    "            augment_images[i,:,:,:]  = equalize_hist(images[i,:,:,:]) \n",
    "        return augment_images\n",
    "    \n",
    "    #add gaussian noise\n",
    "    def noise(self,images):\n",
    "        augment_images = np.copy(images)*0.0\n",
    "        for i in range(len(images)):\n",
    "             augment_images[i,:,:,:] = random_noise(images[i,:,:,:],mode='gaussian')\n",
    "        return augment_images\n",
    "    \n",
    "    #affine images by image scale, translation, rotation\n",
    "    def affine(self,images,scale=(1.0, 1.0), rotation=0.0,translation=(0, 0)):\n",
    "        augment_images = np.copy(images)*0.0\n",
    "        shift_form = sk_tf.AffineTransform(scale=scale, rotation=rotation,translation=translation)\n",
    "        for i in range(len(images)):\n",
    "            augment_images[i,:,:,:]=sk_tf.warp(images[i,:,:,:],shift_form)\n",
    "        return augment_images\n",
    "            \n"
   ]
  },
  {
   "cell_type": "markdown",
   "metadata": {},
   "source": [
    "### Show Augmentation images\n",
    "augmented images inclued noisy, histogram equalization, transition, zoom up, and rotation images"
   ]
  },
  {
   "cell_type": "code",
   "execution_count": 7,
   "metadata": {
    "scrolled": true
   },
   "outputs": [
    {
     "data": {
      "image/png": "[encoded data removed]",
      "text/plain": [
       "<matplotlib.figure.Figure at 0x2452a9eafd0>"
      ]
     },
     "metadata": {},
     "output_type": "display_data"
    }
   ],
   "source": [
    "import warnings\n",
    "warnings.filterwarnings('ignore')\n",
    "#create augment object\n",
    "Augment = Data_Augment()\n",
    "#choose a item to test\n",
    "test_item = 500\n",
    "test_image = np.expand_dims(X_train[test_item,:,:,:],axis=0)\n",
    "\n",
    "#Start to augmentate!\n",
    "\n",
    "#add noise\n",
    "noise_image = np.squeeze(Augment.noise(test_image))\n",
    "#histgorm equalization\n",
    "hist_equal_image = np.squeeze(Augment.hist_equal(test_image))\n",
    "#translation shift-up\n",
    "affine_image1 = np.squeeze(Augment.affine(test_image,scale=(1.0, 1.0),rotation=0.0,translation=(0, 1)))\n",
    "#translation shoft-down\n",
    "affine_image2 = np.squeeze(Augment.affine(test_image,scale=(1.0, 1.0),rotation=0.0,translation=(0, -1)))\n",
    "#translation shift-left\n",
    "affine_image3 = np.squeeze(Augment.affine(test_image,scale=(1.0, 1.0),rotation=0.0,translation=(1, 0)))\n",
    "#translation shift-right\n",
    "affine_image4 = np.squeeze(Augment.affine(test_image,scale=(1.0, 1.0),rotation=0.0,translation=(-1,0)))\n",
    "#scale x up\n",
    "affine_image5 = np.squeeze(Augment.affine(test_image,scale=(0.9, 1.0),rotation=0.0,translation=(0, 0)))\n",
    "#scale y up\n",
    "affine_image6 = np.squeeze(Augment.affine(test_image,scale=(1.0, 0.9),rotation=0.0,translation=(0, 0)))\n",
    "#scale x and y up\n",
    "affine_image7 = np.squeeze(Augment.affine(test_image,scale=(0.9, 0.9),rotation=0.0,translation=(0, 0)))\n",
    "#scale x and y up\n",
    "affine_image8 = np.squeeze(Augment.affine(test_image,scale=(0.85, 0.85),rotation=0.0,translation=(0, 0)))\n",
    "#rotate\n",
    "rotate_image1 = np.squeeze(Augment.rotate(test_image,4))\n",
    "rotate_image2 = np.squeeze(Augment.rotate(test_image,-4))\n",
    "rotate_image3 = np.squeeze(Augment.rotate(test_image,2))\n",
    "rotate_image4 = np.squeeze(Augment.rotate(test_image,-2))\n",
    "\n",
    "#plot augmentation images\n",
    "n_col_plot = 5\n",
    "n_row_plot = 3\n",
    "fig = plt.figure(figsize = (2*n_col_plot, 3*n_row_plot))\n",
    "plot_count = 0\n",
    "fig.subplots_adjust(hspace = 0, wspace = 0)\n",
    "\n",
    "\n",
    "ax = fig.add_subplot(n_row_plot, n_col_plot, 1)\n",
    "ax.axis('off')\n",
    "plt.title('origin')\n",
    "plt.imshow(np.squeeze(test_image))\n",
    "\n",
    "ax = fig.add_subplot(n_row_plot, n_col_plot, 2)\n",
    "ax.axis('off')\n",
    "plt.title('noise')\n",
    "plt.imshow(noise_image)\n",
    "\n",
    "ax = fig.add_subplot(n_row_plot, n_col_plot, 3)\n",
    "ax.axis('off')\n",
    "plt.title('hist equal')\n",
    "plt.imshow(hist_equal_image)\n",
    "\n",
    "ax = fig.add_subplot(n_row_plot, n_col_plot, 4)\n",
    "ax.axis('off')\n",
    "plt.title('shift-up:')\n",
    "plt.imshow(affine_image1)\n",
    "\n",
    "ax = fig.add_subplot(n_row_plot, n_col_plot, 5)\n",
    "ax.axis('off')\n",
    "plt.title('shift-down')\n",
    "plt.imshow(affine_image2)\n",
    "\n",
    "ax = fig.add_subplot(n_row_plot, n_col_plot, 6)\n",
    "ax.axis('off')\n",
    "plt.title('shift-left')\n",
    "plt.imshow(affine_image3)\n",
    "\n",
    "ax = fig.add_subplot(n_row_plot, n_col_plot, 7)\n",
    "ax.axis('off')\n",
    "plt.title('shift-right')\n",
    "plt.imshow(affine_image4)\n",
    "\n",
    "ax = fig.add_subplot(n_row_plot, n_col_plot, 8)\n",
    "ax.axis('off')\n",
    "plt.title('scale x')\n",
    "plt.imshow(affine_image5)\n",
    "\n",
    "ax = fig.add_subplot(n_row_plot, n_col_plot, 9)\n",
    "ax.axis('off')\n",
    "plt.title('scale y')\n",
    "plt.imshow(affine_image6)\n",
    "\n",
    "ax = fig.add_subplot(n_row_plot, n_col_plot, 10)\n",
    "ax.axis('off')\n",
    "plt.title('scale x/y')\n",
    "plt.imshow(affine_image7)\n",
    "\n",
    "ax = fig.add_subplot(n_row_plot, n_col_plot, 11)\n",
    "ax.axis('off')\n",
    "plt.title('scale x/y')\n",
    "plt.imshow(affine_image8)\n",
    "\n",
    "ax = fig.add_subplot(n_row_plot, n_col_plot, 12)\n",
    "ax.axis('off')\n",
    "plt.title('rotate 4 degree')\n",
    "plt.imshow(rotate_image1)\n",
    "\n",
    "ax = fig.add_subplot(n_row_plot, n_col_plot, 13)\n",
    "ax.axis('off')\n",
    "plt.title('rotate -4 degree')\n",
    "plt.imshow(rotate_image2)\n",
    "\n",
    "ax = fig.add_subplot(n_row_plot, n_col_plot, 14)\n",
    "ax.axis('off')\n",
    "plt.title('rotate 2 degree')\n",
    "plt.imshow(rotate_image3)\n",
    "\n",
    "ax = fig.add_subplot(n_row_plot, n_col_plot, 15)\n",
    "ax.axis('off')\n",
    "plt.title('rotate -2 degree')\n",
    "plt.imshow(rotate_image4)\n",
    "\n",
    "plt.show()\n"
   ]
  },
  {
   "cell_type": "markdown",
   "metadata": {},
   "source": [
    "### Augment train data set"
   ]
  },
  {
   "cell_type": "code",
   "execution_count": 8,
   "metadata": {
    "collapsed": true
   },
   "outputs": [],
   "source": [
    "#add noise\n",
    "noise_train = Augment.noise(X_train)\n",
    "#histogram equalization\n",
    "hist_equal_train = Augment.hist_equal(X_train)\n",
    "#rotate\n",
    "rotate_train1 = Augment.rotate(X_train,2)\n",
    "rotate_train2 = Augment.rotate(X_train,-2)\n",
    "#rotate_train3 = Augment.rotate(X_train,4)\n",
    "#rotate_train4 = Augment.rotate(X_train,-4)\n",
    "#affine\n",
    "affine_train1 = Augment.affine(X_train,scale=(0.9,0.9),rotation=0.0,translation=(0,0))\n",
    "affine_train2 = Augment.affine(X_train,scale=(0.9,1.0),rotation=0.0,translation=(0,0))\n",
    "affine_train3 = Augment.affine(X_train,scale=(1.0,0.9),rotation=0.0,translation=(0,0))\n",
    "#affine_train3 = Augment.affine(X_train,scale=(0.85,0.85),rotation=0.0,translation=(0,0))\n",
    "#affine_train5 = Augment.affine(X_train,scale=(1.0,1.0),rotation=0.0,translation=(1,0))\n",
    "#affine_train6 = Augment.affine(X_train,scale=(1.0,1.0),rotation=0.0,translation=(-1,0))\n",
    "#affine_train7 = Augment.affine(X_train,scale=(1.0,1.0),rotation=0.0,translation=(0,1))\n",
    "#affine_train8 = Augment.affine(X_train,scale=(1.0,1.0),rotation=0.0,translation=(0,-1))\n",
    "\n",
    "#class_to_visual = 0\n",
    "#visualize_dataset(noise_train,y_train,signnames,class_to_visual)\n"
   ]
  },
  {
   "cell_type": "code",
   "execution_count": 9,
   "metadata": {},
   "outputs": [
    {
     "name": "stdout",
     "output_type": "stream",
     "text": [
      "(278392, 32, 32, 3)\n",
      "(278392,)\n"
     ]
    }
   ],
   "source": [
    "#combine augmentation data into training set\n",
    "Augment_X_train = np.concatenate((X_train,noise_train,hist_equal_train,rotate_train1,rotate_train2,affine_train1,affine_train2,affine_train3),axis=0)\n",
    "Augment_y_train = np.concatenate((y_train,y_train,y_train,y_train,y_train,y_train,y_train,y_train),axis=0)\n",
    "print(Augment_X_train.shape)\n",
    "print(Augment_y_train.shape)"
   ]
  },
  {
   "cell_type": "code",
   "execution_count": 13,
   "metadata": {},
   "outputs": [],
   "source": [
    "def normalize_images(images,mode='zero_mean'):\n",
    "    norm_images = np.copy(images)*0.0\n",
    "    if mode=='zero_median':\n",
    "        for i in range(len(images)):\n",
    "            norm_images[i,:,:,:] = (images[i,:,:,:]-128.0)/128.0\n",
    "    elif mode=='zero_mean':\n",
    "        for i in range(len(images)):\n",
    "            i_std = np.std(images[i,:,:,:])\n",
    "            i_mean = np.mean(images[i,:,:,:])\n",
    "            norm_images[i,:,:,:] = (images[i,:,:,:]-i_mean)/(i_std+0.000001)\n",
    "    elif mode=='min_max':\n",
    "        for i in range(len(images)):\n",
    "            i_min = np.min(images[i,:,:,:])\n",
    "            i_max = np.max(images[i,:,:,:])\n",
    "            norm_images[i,:,:,:] = (images[i,:,:,:]-i_min)/(i_max-i_min+0.000001)\n",
    "    else:\n",
    "        norm_images = np.copy(images)\n",
    "    return norm_images\n",
    "\n",
    "\n",
    "def show_data_analysis(features):\n",
    "    print('--------------------------------------------------------')\n",
    "    print('    mean of the dataset = %s' %(np.mean(features)))\n",
    "    print('    std of the dataset = %s' %(np.std(features)))\n",
    "    print('    range of the dataset(min,max) = (%s , %s)' %(np.min(features),np.max(features)))\n",
    "    print('--------------------------------------------------------')\n"
   ]
  },
  {
   "cell_type": "code",
   "execution_count": 12,
   "metadata": {},
   "outputs": [
    {
     "name": "stdout",
     "output_type": "stream",
     "text": [
      "train data info before normalization\n",
      "--------------------------------------------------------\n",
      "    mean of the dataset = 10.6427122557\n",
      "    std of the dataset = 36.2880644842\n",
      "    range of the dataset(min,max) = (0.0 , 255.0)\n",
      "--------------------------------------------------------\n",
      "train data info after normalization\n",
      "--------------------------------------------------------\n",
      "    mean of the dataset = -6.24119598817e-20\n",
      "    std of the dataset = 0.999992202958\n",
      "    range of the dataset(min,max) = (-8.96119311832 , 22.6019255282)\n",
      "--------------------------------------------------------\n"
     ]
    }
   ],
   "source": [
    "print('train data info before normalization')\n",
    "show_data_analysis(Augment_X_train)   \n",
    "norm_X_train = normalize_images(Augment_X_train)\n",
    "print('train data info after normalization')\n",
    "show_data_analysis(norm_X_train)\n",
    "norm_y_train = np.copy(Augment_y_train)"
   ]
  },
  {
   "cell_type": "code",
   "execution_count": 14,
   "metadata": {
    "collapsed": true
   },
   "outputs": [],
   "source": [
    "#clear memory\n",
    "del Augment_X_train\n",
    "del Augment_y_train\n",
    "del noise_train\n",
    "del hist_equal_train\n",
    "del rotate_train1\n",
    "del rotate_train2\n",
    "del affine_train1\n",
    "del affine_train2\n",
    "del affine_train3\n"
   ]
  },
  {
   "cell_type": "markdown",
   "metadata": {},
   "source": [
    "### Model Architecture"
   ]
  },
  {
   "cell_type": "markdown",
   "metadata": {},
   "source": [
    "define the basic convolution network layer"
   ]
  },
  {
   "cell_type": "code",
   "execution_count": 17,
   "metadata": {},
   "outputs": [],
   "source": [
    "import tensorflow as tf\n",
    "#define the basic convolution and fc layer in cnn\n",
    "def cnn_conv_layer(input,filters,name,kernel_size=[5,5],w_mu=0.0,w_sigma=0.1,padding='VALID',activation=None):\n",
    "    with tf.name_scope(name):\n",
    "        conv_W = tf.Variable(tf.truncated_normal(shape=(kernel_size[0], kernel_size[1], input.get_shape().as_list()[3], filters), mean = w_mu, stddev = w_sigma),name = 'kernel')\n",
    "        conv_b = tf.Variable(tf.zeros([filters]),name = 'bias')\n",
    "        conv = tf.nn.conv2d(input, conv_W, strides=[1, 1, 1, 1], padding=padding) + conv_b\n",
    "        if activation is not None:\n",
    "             conv = activation(conv)\n",
    "        return conv\n",
    "\n",
    "def cnn_fc_layer(input,filters,name,w_mu=0.0,w_sigma=0.1,activation=None):\n",
    "    with tf.name_scope(name):\n",
    "        fc_W = tf.Variable(tf.truncated_normal(shape=(input.get_shape().as_list()[1] , filters), mean = w_mu, stddev = w_sigma),name='fc_weight')\n",
    "        fc_b = tf.Variable(tf.zeros([filters]),name='fc_bias')\n",
    "        fc = tf.nn.xw_plus_b(input, fc_W, fc_b)\n",
    "        if activation is not None:\n",
    "            fc = activation(fc)\n",
    "        return fc\n",
    "\n",
    "def max_pool(x,filter_size,stride_size, padding='VALID'):\n",
    "    x = tf.nn.max_pool(x, ksize=[1, filter_size, filter_size, 1], strides=[1, stride_size, stride_size, 1], padding=padding)\n",
    "    return x\n",
    "\n"
   ]
  },
  {
   "cell_type": "markdown",
   "metadata": {},
   "source": [
    "### Model for traffic classifier\n",
    "The model name is from my cat shoo-shoo ^^"
   ]
  },
  {
   "cell_type": "markdown",
   "metadata": {},
   "source": [
    "### Loss, accuracy and training operation"
   ]
  },
  {
   "cell_type": "code",
   "execution_count": null,
   "metadata": {
    "collapsed": true
   },
   "outputs": [],
   "source": [
    "#placehoder for train set\n",
    "x = tf.placeholder(tf.float32, (None, 32, 32, 3))\n",
    "y = tf.placeholder(tf.int32, (None))\n",
    "#dropout (keep probability)\n",
    "keep_prob = tf.placeholder(tf.float32)\n",
    "#encode labels into one-hot\n",
    "y_one_hot = tf.one_hot(y, n_classes)\n",
    "\n",
    "#prediction value from the model\n",
    "logits = ShooNet(x,keep_prob,n_classes)\n",
    "\n",
    "#define the loss function\n",
    "cross_entropy = tf.nn.softmax_cross_entropy_with_logits(logits=logits,labels= y_one_hot)\n",
    "loss_operation = tf.reduce_mean(cross_entropy)\n",
    "optimizer = tf.train.AdamOptimizer(learning_rate = 0.001)\n",
    "\n",
    "#define the training operation\n",
    "training_operation = optimizer.minimize(loss_operation)\n",
    "\n",
    "#accuracy measurement\n",
    "correct_prediction = tf.equal(tf.argmax(logits, 1), tf.argmax(y_one_hot, 1))\n",
    "accuracy_operation = tf.reduce_mean(tf.cast(correct_prediction, tf.float32))"
   ]
  },
  {
   "cell_type": "code",
   "execution_count": null,
   "metadata": {
    "collapsed": true
   },
   "outputs": [],
   "source": [
    "def evaluate_acc(X_data, y_data):\n",
    "    BATCH_SIZE = 128\n",
    "    num_examples = len(X_data)\n",
    "    total_accuracy = 0\n",
    "    sess = tf.get_default_session()\n",
    "    for offset in range(0, num_examples, BATCH_SIZE):\n",
    "        batch_x, batch_y = X_data[offset:offset+BATCH_SIZE], y_data[offset:offset+BATCH_SIZE]\n",
    "        accuracy = sess.run(accuracy_operation, feed_dict={x: batch_x, y: batch_y,keep_prob:1.0})\n",
    "        total_accuracy += (accuracy * len(batch_x))\n",
    "    return total_accuracy / num_examples\n",
    "\n",
    "\n",
    "def evaluate_loss(X_data, y_data):\n",
    "    BATCH_SIZE = 128\n",
    "    num_examples = len(X_data)\n",
    "    total_loss = 0\n",
    "    sess = tf.get_default_session()\n",
    "    total_num_of_batch = 0\n",
    "    for offset in range(0, num_examples, BATCH_SIZE):\n",
    "        batch_x, batch_y = X_data[offset:offset+BATCH_SIZE], y_data[offset:offset+BATCH_SIZE]\n",
    "        loss = sess.run(loss_operation, feed_dict={x: batch_x, y: batch_y,keep_prob:1.0})\n",
    "        total_num_of_batch+=1\n",
    "        total_loss +=loss\n",
    "        #total_loss += (loss * len(batch_x))\n",
    "        \n",
    "    return total_loss / total_num_of_batch\n"
   ]
  },
  {
   "cell_type": "markdown",
   "metadata": {},
   "source": [
    "### Train, Validate and Test the Model"
   ]
  },
  {
   "cell_type": "markdown",
   "metadata": {},
   "source": [
    "A validation set can be used to assess how well the model is performing. A low accuracy on the training and validation\n",
    "sets imply underfitting. A high accuracy on the training set but low accuracy on the validation set implies overfitting."
   ]
  },
  {
   "cell_type": "code",
   "execution_count": null,
   "metadata": {
    "collapsed": true
   },
   "outputs": [],
   "source": [
    "def plot_hist_loss(train_loss_list,valid_loss_list,iter_list):\n",
    "    fig = plt.plot()\n",
    "    plt.plot(iter_list,np.log(train_loss_list),label='train_loss')\n",
    "    plt.plot(iter_list,np.log(valid_loss_list),label='valid_loss')\n",
    "    plt.legend(loc='upper right')\n",
    "    plt.title('loss')\n",
    "    plt.xlabel('iter')\n",
    "    plt.ylabel('log(loss)')\n",
    "    plt.show()\n",
    "def plot_hist_acc(train_acc_list,valid_acc_list,iter_list):\n",
    "    fig = plt.plot()\n",
    "    plt.plot(iter_list,train_acc_list,label='train_acc')\n",
    "    plt.plot(iter_list,valid_acc_list,label='valid_acc')\n",
    "    plt.legend(loc='lower right')\n",
    "    plt.title('accuracy')\n",
    "    plt.xlabel('iter')\n",
    "    plt.ylabel('accuracy')\n",
    "    plt.show()"
   ]
  },
  {
   "cell_type": "code",
   "execution_count": null,
   "metadata": {
    "scrolled": true
   },
   "outputs": [],
   "source": [
    "### Train your model here.\n",
    "### Calculate and report the accuracy on the training and validation set.\n",
    "### Once a final model architecture is selected, \n",
    "### the accuracy on the test set should be calculated and reported as well.\n",
    "### Feel free to use as many code cells as needed.\n",
    "from sklearn.utils import shuffle\n",
    "#training parameters\n",
    "EPOCHS = 80\n",
    "BATCH_SIZE = 128\n",
    "verfiy_step = 100\n",
    "disp_step = 1000\n",
    "save_model_step = 500\n",
    "drop_out = 0.8\n",
    "\n",
    "#model directory \n",
    "model_dir = 'model/'\n",
    "model_path  = model_dir + 'shoo.ckpt'\n",
    "iter_list = []\n",
    "train_acc_list = []\n",
    "valid_acc_list = []\n",
    "\n",
    "saver = tf.train.Saver()\n",
    "\n",
    "with tf.Session() as sess:\n",
    "    sess.run(tf.global_variables_initializer())\n",
    "    #restore model  from last step\n",
    "    ckpt = tf.train.get_checkpoint_state(model_dir)\n",
    "    if ckpt and ckpt.model_checkpoint_path:\n",
    "        print('restore model %s' %ckpt.model_checkpoint_path)\n",
    "        saver.restore(sess, ckpt.model_checkpoint_path)\n",
    "        \n",
    "    num_examples = len(X_train)\n",
    "    step = 1\n",
    "    print(\"Training...\")\n",
    "    for i in range(EPOCHS):\n",
    "        print(\"EPOCH {} ... \".format(i+1))\n",
    "        norm_X_train, norm_y_train = shuffle(norm_X_train, norm_y_train)\n",
    "        for offset in range(0, num_examples, BATCH_SIZE):\n",
    "            end = offset + BATCH_SIZE\n",
    "            batch_x, batch_y = norm_X_train[offset:end], norm_y_train[offset:end]\n",
    "            sess.run(training_operation, feed_dict={x: batch_x, y: batch_y,keep_prob:drop_out})\n",
    "            \n",
    "            if step % verfiy_step ==0:\n",
    "                #evaluate accuracy\n",
    "                valid_acc = evaluate_acc(X_valid, y_valid)\n",
    "                train_acc = evaluate_acc(norm_X_train,norm_y_train)\n",
    "                #add accuracy info intothe array\n",
    "                train_acc_list.append(train_acc)\n",
    "                valid_acc_list.append(valid_acc)\n",
    "                iter_list.append(step)\n",
    "                \n",
    "                #display accuracy\n",
    "    \n",
    "                print(\"Validation acc = {:.3f}\".format(valid_acc), end=\"  \")\n",
    "                print(\"Training acc   = {:.3f}\".format(train_acc))\n",
    "            if step % disp_step == 0:    \n",
    "                #plot the history accuracy\n",
    "                plot_hist_acc(train_acc_list,valid_acc_list,iter_list)\n",
    "            if step % save_model_step == 0:\n",
    "                saver.save(sess, model_path, global_step=step)\n",
    "            step +=1\n",
    "    saver.save(sess, model_path)\n",
    "    print(\"Model saved\")\n",
    "\n",
    "\n"
   ]
  },
  {
   "cell_type": "markdown",
   "metadata": {},
   "source": [
    "###  Accuracy in test set "
   ]
  },
  {
   "cell_type": "code",
   "execution_count": null,
   "metadata": {},
   "outputs": [],
   "source": [
    "### Load the images and plot them here.\n",
    "### Feel free to use as many code cells as needed.\n",
    "model_path = 'model/shoo.ckpt'\n",
    "#normalize testing set\n",
    "norm_X_test = normalize_images(X_test)\n",
    "saver = tf.train.Saver()\n",
    "init = tf.global_variables_initializer()\n",
    "with tf.Session() as sess:\n",
    "    sess.run(init)\n",
    "    saver.restore(sess,model_path)\n",
    "    test_acc = evaluate_acc(norm_X_test,y_test)\n",
    "    print('Test set accuracy = {:.3f}'.format(test_acc))\n"
   ]
  },
  {
   "cell_type": "markdown",
   "metadata": {},
   "source": [
    "---\n",
    "\n",
    "## Step 3: Test a Model on New Images\n",
    "\n",
    "To give yourself more insight into how your model is working, download at least five pictures of German traffic signs from the web and use your model to predict the traffic sign type.\n",
    "\n",
    "You may find `signnames.csv` useful as it contains mappings from the class id (integer) to the actual sign name."
   ]
  },
  {
   "cell_type": "markdown",
   "metadata": {},
   "source": [
    "### Load and Output the Images"
   ]
  },
  {
   "cell_type": "code",
   "execution_count": null,
   "metadata": {},
   "outputs": [],
   "source": [
    "import glob\n",
    "import matplotlib.pyplot as plt\n",
    "from scipy.misc import imread\n",
    "from scipy.misc import imresize\n",
    "import pandas as pd\n",
    "import cv2\n",
    "import numpy as np\n",
    "\n",
    "signnames = pd.read_csv('signnames.csv', index_col='SignName')\n",
    "image_filename_list = glob.glob('GTSRB/Images/*.ppm')\n",
    "pd = pd.read_csv('GTSRB/GTSRB_Online-Test-GT/GT-online_test.csv',sep=';')\n",
    "\n",
    "[w, h, x1, x2, y1, y2, id] = pd['Width'], pd['Height'], pd['Roi.X1'], pd['Roi.X2'], pd['Roi.Y1'], pd['Roi.Y2'],pd['ClassId']\n",
    "GTSRB_X = []\n",
    "GTSRB_y = []\n",
    "\n",
    "num_of_test = 16\n",
    "for i in range(num_of_test):\n",
    "    img = imread(image_filename_list[i])\n",
    "    img_crop = img[y1[i]:y2[i]+1,x1[i]:x2[i]+1,:]\n",
    "    img_crop_resized=  cv2.resize(img_crop, (32,32),interpolation=cv2.INTER_CUBIC)\n",
    "    GTSRB_X.append(img_crop_resized)\n",
    "    GTSRB_y.append(id[i])\n",
    "    \n",
    "GTSRB_X = np.array(GTSRB_X)  \n",
    "GTSRB_y = np.array(GTSRB_y)  \n",
    "\n",
    "#visualize test image\n",
    "n_row_plot = 4\n",
    "n_col_plot = int(num_of_test/n_row_plot)\n",
    "fig = plt.figure(figsize = (5*n_col_plot, 5*n_row_plot))\n",
    "fig.subplots_adjust(hspace = 0.5, wspace = 0.5)\n",
    "plot_count = 1\n",
    "for i in range(num_of_test):\n",
    "    ax = fig.add_subplot(n_row_plot, n_col_plot, plot_count)\n",
    "    ax.axis('off')\n",
    "    label_id = int(GTSRB_y[i])\n",
    "    item_name = signnames.index[label_id]\n",
    "    plt.title('Class Id:%s \\n %s' %(label_id,item_name))\n",
    "              \n",
    "    plt.imshow(GTSRB_X[i])\n",
    "    plot_count+=1\n",
    "\n",
    "#normalize test image \n",
    "norm_GTSRB_X = normalize_images(GTSRB_X)\n"
   ]
  },
  {
   "cell_type": "markdown",
   "metadata": {},
   "source": [
    "### Predict the Sign Type for Each Image"
   ]
  },
  {
   "cell_type": "code",
   "execution_count": null,
   "metadata": {},
   "outputs": [],
   "source": [
    "### Run the predictions here and use the model to output the prediction for each image.\n",
    "### Make sure to pre-process the images with the same pre-processing pipeline used earlier.\n",
    "### Feel free to use as many code cells as needed.\n",
    "\n",
    "def inference_Traffic_Classifier(X_data, sess): \n",
    "    traffic_sign = sess.run(tf.argmax(logits, 1), feed_dict={x: X_data, keep_prob: 1.0})    \n",
    "    return traffic_sign\n",
    "def inference_Traffic_Classifier_Top5(X_data,sess):\n",
    "    top5 = sess.run(tf.nn.top_k(tf.nn.softmax(logits), k=5), feed_dict={x: X_data, keep_prob: 1.0})\n",
    "    return top5\n",
    "def inference_Traffic_Classifier_prob(X_data,sess):\n",
    "    prob = sess.run(tf.nn.softmax(logits), feed_dict={x: X_data, keep_prob: 1.0})\n",
    "    return prob\n"
   ]
  },
  {
   "cell_type": "markdown",
   "metadata": {},
   "source": [
    "### Predict traffic sign in German Traffic Sign Dataset"
   ]
  },
  {
   "cell_type": "code",
   "execution_count": null,
   "metadata": {},
   "outputs": [],
   "source": [
    "#normalize testing set\n",
    "norm_GTSRB_X = normalize_images(GTSRB_X)\n",
    "\n",
    "model_path = 'model/shoo.ckpt'\n",
    "saver = tf.train.Saver()\n",
    "init = tf.global_variables_initializer()\n",
    "with tf.Session() as sess:\n",
    "    sess.run(init)\n",
    "    saver.restore(sess,model_path)\n",
    "    pred_sign = inference_Traffic_Classifier(norm_GTSRB_X, sess)\n",
    "    \n",
    "#visualize prediction answer\n",
    "n_row_plot = 4\n",
    "n_col_plot = int(num_of_test/n_row_plot)\n",
    "fig = plt.figure(figsize = (5*n_col_plot, 5*n_row_plot))\n",
    "fig.subplots_adjust(hspace = 0.5, wspace = 0.5)\n",
    "plot_count = 1\n",
    "for i in range(num_of_test):\n",
    "    ax = fig.add_subplot(n_row_plot, n_col_plot, plot_count)\n",
    "    ax.axis('off')\n",
    "    item_name = signnames.index[label_id]\n",
    "    plt.title('GT: %s\\n Pred: %s' %(signnames.index[GTSRB_y[i]],signnames.index[sign[i]]))\n",
    "              \n",
    "    plt.imshow(GTSRB_X[i])\n",
    "    plot_count+=1\n"
   ]
  },
  {
   "cell_type": "markdown",
   "metadata": {},
   "source": [
    "### Analyze Performance"
   ]
  },
  {
   "cell_type": "code",
   "execution_count": null,
   "metadata": {},
   "outputs": [],
   "source": [
    "### Calculate the accuracy for these 5 new images. \n",
    "### For example, if the model predicted 1 out of 5 signs correctly, it's 20% accurate on these new images.\n",
    "\n",
    "GT_sign = GTSRB_y[0:num_of_test]\n",
    "print('class id of ground truth: %s' %GT_sign)\n",
    "print('class id of predictor:    %s' %pred_sign)\n",
    "diff_sign = GT_sign - pred_sign\n",
    "num_of_hit_item = np.array((np.where(diff_sign==0))).shape[1]\n",
    "accuracy = num_of_hit_item / num_of_test *100\n",
    "print('Accuracy of test images is %s %%' %accuracy)\n",
    "\n"
   ]
  },
  {
   "cell_type": "markdown",
   "metadata": {},
   "source": [
    "### Output Top 5 Softmax Probabilities For Each Image Found on the Web"
   ]
  },
  {
   "cell_type": "markdown",
   "metadata": {},
   "source": [
    "For each of the new images, print out the model's softmax probabilities to show the **certainty** of the model's predictions (limit the output to the top 5 probabilities for each image). [`tf.nn.top_k`](https://www.tensorflow.org/versions/r0.12/api_docs/python/nn.html#top_k) could prove helpful here. \n",
    "\n",
    "The example below demonstrates how tf.nn.top_k can be used to find the top k predictions for each image.\n",
    "\n",
    "`tf.nn.top_k` will return the values and indices (class ids) of the top k predictions. So if k=3, for each sign, it'll return the 3 largest probabilities (out of a possible 43) and the correspoding class ids.\n",
    "\n",
    "Take this numpy array as an example. The values in the array represent predictions. The array contains softmax probabilities for five candidate images with six possible classes. `tf.nn.top_k` is used to choose the three classes with the highest probability:\n",
    "\n",
    "```\n",
    "# (5, 6) array\n",
    "a = np.array([[ 0.24879643,  0.07032244,  0.12641572,  0.34763842,  0.07893497,\n",
    "         0.12789202],\n",
    "       [ 0.28086119,  0.27569815,  0.08594638,  0.0178669 ,  0.18063401,\n",
    "         0.15899337],\n",
    "       [ 0.26076848,  0.23664738,  0.08020603,  0.07001922,  0.1134371 ,\n",
    "         0.23892179],\n",
    "       [ 0.11943333,  0.29198961,  0.02605103,  0.26234032,  0.1351348 ,\n",
    "         0.16505091],\n",
    "       [ 0.09561176,  0.34396535,  0.0643941 ,  0.16240774,  0.24206137,\n",
    "         0.09155967]])\n",
    "```\n",
    "\n",
    "Running it through `sess.run(tf.nn.top_k(tf.constant(a), k=3))` produces:\n",
    "\n",
    "```\n",
    "TopKV2(values=array([[ 0.34763842,  0.24879643,  0.12789202],\n",
    "       [ 0.28086119,  0.27569815,  0.18063401],\n",
    "       [ 0.26076848,  0.23892179,  0.23664738],\n",
    "       [ 0.29198961,  0.26234032,  0.16505091],\n",
    "       [ 0.34396535,  0.24206137,  0.16240774]]), indices=array([[3, 0, 5],\n",
    "       [0, 1, 4],\n",
    "       [0, 5, 1],\n",
    "       [1, 3, 5],\n",
    "       [1, 4, 3]], dtype=int32))\n",
    "```\n",
    "\n",
    "Looking just at the first row we get `[ 0.34763842,  0.24879643,  0.12789202]`, you can confirm these are the 3 largest probabilities in `a`. You'll also notice `[3, 0, 5]` are the corresponding indices."
   ]
  },
  {
   "cell_type": "code",
   "execution_count": null,
   "metadata": {},
   "outputs": [],
   "source": [
    "### Print out the top five softmax probabilities for the predictions on the German traffic sign images found on the web. \n",
    "### Feel free to use as many code cells as needed.\n",
    "model_path = 'model/shoo.ckpt'\n",
    "saver = tf.train.Saver()\n",
    "init = tf.global_variables_initializer()\n",
    "with tf.Session() as sess:\n",
    "    sess.run(init)\n",
    "    saver.restore(sess,model_path)\n",
    "    pred_Top5 = inference_Traffic_Classifier_Top5(norm_GTSRB_X,sess)\n",
    "                                    \n",
    "print(pred_Top5)"
   ]
  },
  {
   "cell_type": "markdown",
   "metadata": {},
   "source": [
    "### Project Writeup\n",
    "\n",
    "Once you have completed the code implementation, document your results in a project writeup using this [template](https://github.com/udacity/CarND-Traffic-Sign-Classifier-Project/blob/master/writeup_template.md) as a guide. The writeup can be in a markdown or pdf file. "
   ]
  },
  {
   "cell_type": "markdown",
   "metadata": {},
   "source": [
    "> **Note**: Once you have completed all of the code implementations and successfully answered each question above, you may finalize your work by exporting the iPython Notebook as an HTML document. You can do this by using the menu above and navigating to  \\n\",\n",
    "    \"**File -> Download as -> HTML (.html)**. Include the finished document along with this notebook as your submission."
   ]
  },
  {
   "cell_type": "markdown",
   "metadata": {},
   "source": [
    "---\n",
    "\n",
    "## Step 4 (Optional): Visualize the Neural Network's State with Test Images\n",
    "\n",
    " This Section is not required to complete but acts as an additional excersise for understaning the output of a neural network's weights. While neural networks can be a great learning device they are often referred to as a black box. We can understand what the weights of a neural network look like better by plotting their feature maps. After successfully training your neural network you can see what it's feature maps look like by plotting the output of the network's weight layers in response to a test stimuli image. From these plotted feature maps, it's possible to see what characteristics of an image the network finds interesting. For a sign, maybe the inner network feature maps react with high activation to the sign's boundary outline or to the contrast in the sign's painted symbol.\n",
    "\n",
    " Provided for you below is the function code that allows you to get the visualization output of any tensorflow weight layer you want. The inputs to the function should be a stimuli image, one used during training or a new one you provided, and then the tensorflow variable name that represents the layer's state during the training process, for instance if you wanted to see what the [LeNet lab's](https://classroom.udacity.com/nanodegrees/nd013/parts/fbf77062-5703-404e-b60c-95b78b2f3f9e/modules/6df7ae49-c61c-4bb2-a23e-6527e69209ec/lessons/601ae704-1035-4287-8b11-e2c2716217ad/concepts/d4aca031-508f-4e0b-b493-e7b706120f81) feature maps looked like for it's second convolutional layer you could enter conv2 as the tf_activation variable.\n",
    "\n",
    "For an example of what feature map outputs look like, check out NVIDIA's results in their paper [End-to-End Deep Learning for Self-Driving Cars](https://devblogs.nvidia.com/parallelforall/deep-learning-self-driving-cars/) in the section Visualization of internal CNN State. NVIDIA was able to show that their network's inner weights had high activations to road boundary lines by comparing feature maps from an image with a clear path to one without. Try experimenting with a similar test to show that your trained network's weights are looking for interesting features, whether it's looking at differences in feature maps from images with or without a sign, or even what feature maps look like in a trained network vs a completely untrained one on the same sign image.\n",
    "\n",
    "<figure>\n",
    " <img src=\"visualize_cnn.png\" width=\"380\" alt=\"Combined Image\" />\n",
    " <figcaption>\n",
    " <p></p> \n",
    " <p style=\"text-align: center;\"> Your output should look something like this (above)</p> \n",
    " </figcaption>\n",
    "</figure>\n",
    " <p></p> \n"
   ]
  },
  {
   "cell_type": "code",
   "execution_count": null,
   "metadata": {},
   "outputs": [],
   "source": [
    "### Visualize your network's feature maps here.\n",
    "### Feel free to use as many code cells as needed.\n",
    "\n",
    "# image_input: the test image being fed into the network to produce the feature maps\n",
    "# tf_activation: should be a tf variable name used during your training procedure that represents the calculated state of a specific weight layer\n",
    "# activation_min/max: can be used to view the activation contrast in more detail, by default matplot sets min and max to the actual min and max values of the output\n",
    "# plt_num: used to plot out multiple different weight feature map sets on the same block, just extend the plt number for each new feature map entry\n",
    "\n",
    "def outputFeatureMap(image_input, tf_activation, activation_min=-1, activation_max=-1 ,plt_num=1):\n",
    "    # Here make sure to preprocess your image_input in a way your network expects\n",
    "    # with size, normalization, ect if needed\n",
    "    # image_input =\n",
    "    # Note: x should be the same name as your network's tensorflow data placeholder variable\n",
    "    # If you get an error tf_activation is not defined it may be having trouble accessing the variable from inside a function\n",
    "    \n",
    "    activation = tf_activation.eval(session=sess,feed_dict={x : image_input})\n",
    "    print(activation.shape)\n",
    "    featuremaps = activation.shape[3]\n",
    "    plt.figure(plt_num, figsize=(15,15))\n",
    "    for featuremap in range(featuremaps):\n",
    "        plt.subplot(6,16, featuremap+1) # sets the number of feature maps to show on each row and column\n",
    "        plt.title('FeatureMap ' + str(featuremap)) # displays the feature map number\n",
    "        if activation_min != -1 & activation_max != -1:\n",
    "            plt.imshow(activation[0,:,:, featuremap], interpolation=\"nearest\", vmin =activation_min, vmax=activation_max, cmap=\"gray\")\n",
    "        elif activation_max != -1:\n",
    "            plt.imshow(activation[0,:,:, featuremap], interpolation=\"nearest\", vmax=activation_max, cmap=\"gray\")\n",
    "        elif activation_min !=-1:\n",
    "            plt.imshow(activation[0,:,:, featuremap], interpolation=\"nearest\", vmin=activation_min, cmap=\"gray\")\n",
    "        else:\n",
    "            plt.imshow(activation[0,:,:, featuremap], interpolation=\"nearest\", cmap=\"gray\")\n",
    "\n",
    "            \n",
    "\n",
    "            \n",
    "            \n",
    "\n"
   ]
  },
  {
   "cell_type": "code",
   "execution_count": null,
   "metadata": {
    "collapsed": true
   },
   "outputs": [],
   "source": []
  }
 ],
 "metadata": {
  "anaconda-cloud": {},
  "kernelspec": {
   "display_name": "Python 3",
   "language": "python",
   "name": "python3"
  },
  "language_info": {
   "codemirror_mode": {
    "name": "ipython",
    "version": 3
   },
   "file_extension": ".py",
   "mimetype": "text/x-python",
   "name": "python",
   "nbconvert_exporter": "python",
   "pygments_lexer": "ipython3",
   "version": "3.6.3"
  },
  "widgets": {
   "state": {},
   "version": "1.1.2"
  }
 },
 "nbformat": 4,
 "nbformat_minor": 1
}
